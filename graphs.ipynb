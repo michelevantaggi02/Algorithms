{
 "cells": [
  {
   "cell_type": "markdown",
   "metadata": {},
   "source": [
    "# Graphs\n",
    "\n",
    "## How to store a graph\n",
    "There are different ways to store graphs, each way is more useful with certain algorithms than others.\n",
    "\n",
    "### Adjacency matrix\n",
    "Each column and row represents a node of the graph, the cells value represents if a node of a row is connected to a node of the column"
   ]
  },
  {
   "cell_type": "code",
   "execution_count": 1,
   "metadata": {},
   "outputs": [],
   "source": [
    "adj_matrix = [\n",
    "    [0, 1, 1, 0],\n",
    "    [1, 0, 1, 0],\n",
    "    [1, 1, 0, 1],\n",
    "    [0, 0, 1, 0],\n",
    "    ]"
   ]
  },
  {
   "cell_type": "markdown",
   "metadata": {},
   "source": [
    "### Adjacency list\n",
    "\n",
    "Each index of the array represents a node, its value represents the nodes connected to that node"
   ]
  },
  {
   "cell_type": "code",
   "execution_count": 2,
   "metadata": {},
   "outputs": [],
   "source": [
    "adj_list = [\n",
    "    [1, 2],\n",
    "    [0, 2],\n",
    "    [0, 1, 3],\n",
    "    [2]\n",
    "]"
   ]
  },
  {
   "cell_type": "markdown",
   "metadata": {},
   "source": [
    "### Adjacency vector\n",
    "\n",
    "It is made of 2 vectors:\n",
    "- Vector V contains the index of the first arch\n",
    "- Vector E contains what arches are connected"
   ]
  },
  {
   "cell_type": "code",
   "execution_count": 3,
   "metadata": {},
   "outputs": [],
   "source": [
    "V = [0, 2, 3]\n",
    "E = [1, 2, 2, 4]"
   ]
  },
  {
   "cell_type": "markdown",
   "metadata": {},
   "source": [
    "In this example we can see that Node(0) arches start ad index 0 of E and end at 2 (excluded), so node 0 is connected to (1, 2)."
   ]
  },
  {
   "cell_type": "markdown",
   "metadata": {},
   "source": [
    "## Graph Exploration\n",
    "\n",
    "Exploring a graph means extracting a tree touching every node of the graph\n",
    "\n",
    "### DFS - Depth First Search"
   ]
  },
  {
   "cell_type": "code",
   "execution_count": 4,
   "metadata": {},
   "outputs": [],
   "source": [
    "from alg_graph_tools import create_graph\n",
    "from alg_graph_tools import Node\n",
    "\n",
    "G = create_graph(adj_list)\n",
    "\n",
    "# DFS expects initialize function, in this case initialization is made with create_graph\n",
    "# initialization consists in putting parent of every node as None and the node color as white\n",
    "# In this example we consider colors as integers: white = 0, grey = 1, black = 2\n"
   ]
  },
  {
   "cell_type": "code",
   "execution_count": 5,
   "metadata": {},
   "outputs": [],
   "source": [
    "def dfs_visit(G : list, u : Node) -> (list, list):\n",
    "    u.color = 1\n",
    "    T = []\n",
    "    B = []\n",
    "    for v in u.adj:\n",
    "        if v.color == 0:\n",
    "            T.append((u, v))\n",
    "            v.parent = u\n",
    "            dfs_visit(G, v)\n",
    "        elif v is not u.parent:\n",
    "            B.append((u, v))\n",
    "        else:\n",
    "            T.append((u, v))\n",
    "    u.color = 2\n",
    "    return T, B"
   ]
  },
  {
   "cell_type": "code",
   "execution_count": 8,
   "metadata": {},
   "outputs": [
    {
     "name": "stdout",
     "output_type": "stream",
     "text": [
      "T = [], B = [(Node(0): self.parent = None, self.adj = [Node(1): self.parent = Node(0): self.parent = None, self.adj = [...], self.adj = [Node(0): self.parent = None, self.adj = [...], Node(2): self.parent = Node(1): self.parent = Node(0): self.parent = None, self.adj = [...], self.adj = [...], self.adj = [Node(0): self.parent = None, self.adj = [...], Node(1): self.parent = Node(0): self.parent = None, self.adj = [...], self.adj = [...], Node(3): self.parent = Node(2): self.parent = Node(1): self.parent = Node(0): self.parent = None, self.adj = [...], self.adj = [...], self.adj = [...], self.adj = [Node(2): self.parent = Node(1): self.parent = Node(0): self.parent = None, self.adj = [...], self.adj = [...], self.adj = [...]]]], Node(2): self.parent = Node(1): self.parent = Node(0): self.parent = None, self.adj = [...], self.adj = [Node(0): self.parent = None, self.adj = [...], Node(2): self.parent = Node(1): self.parent = Node(0): self.parent = None, self.adj = [...], self.adj = [...], self.adj = [Node(0): self.parent = None, self.adj = [...], Node(1): self.parent = Node(0): self.parent = None, self.adj = [...], self.adj = [...], Node(3): self.parent = Node(2): self.parent = Node(1): self.parent = Node(0): self.parent = None, self.adj = [...], self.adj = [...], self.adj = [...], self.adj = [Node(2): self.parent = Node(1): self.parent = Node(0): self.parent = None, self.adj = [...], self.adj = [...], self.adj = [...]]]], self.adj = [Node(0): self.parent = None, self.adj = [...], Node(1): self.parent = Node(0): self.parent = None, self.adj = [...], self.adj = [Node(0): self.parent = None, self.adj = [...], Node(2): self.parent = Node(1): self.parent = Node(0): self.parent = None, self.adj = [...], self.adj = [...], self.adj = [...]], Node(3): self.parent = Node(2): self.parent = Node(1): self.parent = Node(0): self.parent = None, self.adj = [...], self.adj = [Node(0): self.parent = None, self.adj = [...], Node(2): self.parent = Node(1): self.parent = Node(0): self.parent = None, self.adj = [...], self.adj = [...], self.adj = [...]], self.adj = [...], self.adj = [Node(2): self.parent = Node(1): self.parent = Node(0): self.parent = None, self.adj = [...], self.adj = [Node(0): self.parent = None, self.adj = [...], Node(2): self.parent = Node(1): self.parent = Node(0): self.parent = None, self.adj = [...], self.adj = [...], self.adj = [...]], self.adj = [...]]]], Node(1): self.parent = Node(0): self.parent = None, self.adj = [Node(1): self.parent = Node(0): self.parent = None, self.adj = [...], self.adj = [Node(0): self.parent = None, self.adj = [...], Node(2): self.parent = Node(1): self.parent = Node(0): self.parent = None, self.adj = [...], self.adj = [...], self.adj = [Node(0): self.parent = None, self.adj = [...], Node(1): self.parent = Node(0): self.parent = None, self.adj = [...], self.adj = [...], Node(3): self.parent = Node(2): self.parent = Node(1): self.parent = Node(0): self.parent = None, self.adj = [...], self.adj = [...], self.adj = [...], self.adj = [Node(2): self.parent = Node(1): self.parent = Node(0): self.parent = None, self.adj = [...], self.adj = [...], self.adj = [...]]]], Node(2): self.parent = Node(1): self.parent = Node(0): self.parent = None, self.adj = [...], self.adj = [Node(0): self.parent = None, self.adj = [...], Node(2): self.parent = Node(1): self.parent = Node(0): self.parent = None, self.adj = [...], self.adj = [...], self.adj = [Node(0): self.parent = None, self.adj = [...], Node(1): self.parent = Node(0): self.parent = None, self.adj = [...], self.adj = [...], Node(3): self.parent = Node(2): self.parent = Node(1): self.parent = Node(0): self.parent = None, self.adj = [...], self.adj = [...], self.adj = [...], self.adj = [Node(2): self.parent = Node(1): self.parent = Node(0): self.parent = None, self.adj = [...], self.adj = [...], self.adj = [...]]]], self.adj = [Node(0): self.parent = None, self.adj = [...], Node(1): self.parent = Node(0): self.parent = None, self.adj = [...], self.adj = [Node(0): self.parent = None, self.adj = [...], Node(2): self.parent = Node(1): self.parent = Node(0): self.parent = None, self.adj = [...], self.adj = [...], self.adj = [...]], Node(3): self.parent = Node(2): self.parent = Node(1): self.parent = Node(0): self.parent = None, self.adj = [...], self.adj = [Node(0): self.parent = None, self.adj = [...], Node(2): self.parent = Node(1): self.parent = Node(0): self.parent = None, self.adj = [...], self.adj = [...], self.adj = [...]], self.adj = [...], self.adj = [Node(2): self.parent = Node(1): self.parent = Node(0): self.parent = None, self.adj = [...], self.adj = [Node(0): self.parent = None, self.adj = [...], Node(2): self.parent = Node(1): self.parent = Node(0): self.parent = None, self.adj = [...], self.adj = [...], self.adj = [...]], self.adj = [...]]]], self.adj = [Node(0): self.parent = None, self.adj = [Node(1): self.parent = Node(0): self.parent = None, self.adj = [...], self.adj = [...], Node(2): self.parent = Node(1): self.parent = Node(0): self.parent = None, self.adj = [...], self.adj = [...], self.adj = [Node(0): self.parent = None, self.adj = [...], Node(1): self.parent = Node(0): self.parent = None, self.adj = [...], self.adj = [...], Node(3): self.parent = Node(2): self.parent = Node(1): self.parent = Node(0): self.parent = None, self.adj = [...], self.adj = [...], self.adj = [...], self.adj = [Node(2): self.parent = Node(1): self.parent = Node(0): self.parent = None, self.adj = [...], self.adj = [...], self.adj = [...]]]], Node(2): self.parent = Node(1): self.parent = Node(0): self.parent = None, self.adj = [Node(1): self.parent = Node(0): self.parent = None, self.adj = [...], self.adj = [...], Node(2): self.parent = Node(1): self.parent = Node(0): self.parent = None, self.adj = [...], self.adj = [...], self.adj = [Node(0): self.parent = None, self.adj = [...], Node(1): self.parent = Node(0): self.parent = None, self.adj = [...], self.adj = [...], Node(3): self.parent = Node(2): self.parent = Node(1): self.parent = Node(0): self.parent = None, self.adj = [...], self.adj = [...], self.adj = [...], self.adj = [Node(2): self.parent = Node(1): self.parent = Node(0): self.parent = None, self.adj = [...], self.adj = [...], self.adj = [...]]]], self.adj = [...], self.adj = [Node(0): self.parent = None, self.adj = [Node(1): self.parent = Node(0): self.parent = None, self.adj = [...], self.adj = [...], Node(2): self.parent = Node(1): self.parent = Node(0): self.parent = None, self.adj = [...], self.adj = [...], self.adj = [...]], Node(1): self.parent = Node(0): self.parent = None, self.adj = [Node(1): self.parent = Node(0): self.parent = None, self.adj = [...], self.adj = [...], Node(2): self.parent = Node(1): self.parent = Node(0): self.parent = None, self.adj = [...], self.adj = [...], self.adj = [...]], self.adj = [...], Node(3): self.parent = Node(2): self.parent = Node(1): self.parent = Node(0): self.parent = None, self.adj = [Node(1): self.parent = Node(0): self.parent = None, self.adj = [...], self.adj = [...], Node(2): self.parent = Node(1): self.parent = Node(0): self.parent = None, self.adj = [...], self.adj = [...], self.adj = [...]], self.adj = [...], self.adj = [...], self.adj = [Node(2): self.parent = Node(1): self.parent = Node(0): self.parent = None, self.adj = [Node(1): self.parent = Node(0): self.parent = None, self.adj = [...], self.adj = [...], Node(2): self.parent = Node(1): self.parent = Node(0): self.parent = None, self.adj = [...], self.adj = [...], self.adj = [...]], self.adj = [...], self.adj = [...]]]]), (Node(0): self.parent = None, self.adj = [Node(1): self.parent = Node(0): self.parent = None, self.adj = [...], self.adj = [Node(0): self.parent = None, self.adj = [...], Node(2): self.parent = Node(1): self.parent = Node(0): self.parent = None, self.adj = [...], self.adj = [...], self.adj = [Node(0): self.parent = None, self.adj = [...], Node(1): self.parent = Node(0): self.parent = None, self.adj = [...], self.adj = [...], Node(3): self.parent = Node(2): self.parent = Node(1): self.parent = Node(0): self.parent = None, self.adj = [...], self.adj = [...], self.adj = [...], self.adj = [Node(2): self.parent = Node(1): self.parent = Node(0): self.parent = None, self.adj = [...], self.adj = [...], self.adj = [...]]]], Node(2): self.parent = Node(1): self.parent = Node(0): self.parent = None, self.adj = [...], self.adj = [Node(0): self.parent = None, self.adj = [...], Node(2): self.parent = Node(1): self.parent = Node(0): self.parent = None, self.adj = [...], self.adj = [...], self.adj = [Node(0): self.parent = None, self.adj = [...], Node(1): self.parent = Node(0): self.parent = None, self.adj = [...], self.adj = [...], Node(3): self.parent = Node(2): self.parent = Node(1): self.parent = Node(0): self.parent = None, self.adj = [...], self.adj = [...], self.adj = [...], self.adj = [Node(2): self.parent = Node(1): self.parent = Node(0): self.parent = None, self.adj = [...], self.adj = [...], self.adj = [...]]]], self.adj = [Node(0): self.parent = None, self.adj = [...], Node(1): self.parent = Node(0): self.parent = None, self.adj = [...], self.adj = [Node(0): self.parent = None, self.adj = [...], Node(2): self.parent = Node(1): self.parent = Node(0): self.parent = None, self.adj = [...], self.adj = [...], self.adj = [...]], Node(3): self.parent = Node(2): self.parent = Node(1): self.parent = Node(0): self.parent = None, self.adj = [...], self.adj = [Node(0): self.parent = None, self.adj = [...], Node(2): self.parent = Node(1): self.parent = Node(0): self.parent = None, self.adj = [...], self.adj = [...], self.adj = [...]], self.adj = [...], self.adj = [Node(2): self.parent = Node(1): self.parent = Node(0): self.parent = None, self.adj = [...], self.adj = [Node(0): self.parent = None, self.adj = [...], Node(2): self.parent = Node(1): self.parent = Node(0): self.parent = None, self.adj = [...], self.adj = [...], self.adj = [...]], self.adj = [...]]]], Node(2): self.parent = Node(1): self.parent = Node(0): self.parent = None, self.adj = [Node(1): self.parent = Node(0): self.parent = None, self.adj = [...], self.adj = [Node(0): self.parent = None, self.adj = [...], Node(2): self.parent = Node(1): self.parent = Node(0): self.parent = None, self.adj = [...], self.adj = [...], self.adj = [Node(0): self.parent = None, self.adj = [...], Node(1): self.parent = Node(0): self.parent = None, self.adj = [...], self.adj = [...], Node(3): self.parent = Node(2): self.parent = Node(1): self.parent = Node(0): self.parent = None, self.adj = [...], self.adj = [...], self.adj = [...], self.adj = [Node(2): self.parent = Node(1): self.parent = Node(0): self.parent = None, self.adj = [...], self.adj = [...], self.adj = [...]]]], Node(2): self.parent = Node(1): self.parent = Node(0): self.parent = None, self.adj = [...], self.adj = [Node(0): self.parent = None, self.adj = [...], Node(2): self.parent = Node(1): self.parent = Node(0): self.parent = None, self.adj = [...], self.adj = [...], self.adj = [Node(0): self.parent = None, self.adj = [...], Node(1): self.parent = Node(0): self.parent = None, self.adj = [...], self.adj = [...], Node(3): self.parent = Node(2): self.parent = Node(1): self.parent = Node(0): self.parent = None, self.adj = [...], self.adj = [...], self.adj = [...], self.adj = [Node(2): self.parent = Node(1): self.parent = Node(0): self.parent = None, self.adj = [...], self.adj = [...], self.adj = [...]]]], self.adj = [Node(0): self.parent = None, self.adj = [...], Node(1): self.parent = Node(0): self.parent = None, self.adj = [...], self.adj = [Node(0): self.parent = None, self.adj = [...], Node(2): self.parent = Node(1): self.parent = Node(0): self.parent = None, self.adj = [...], self.adj = [...], self.adj = [...]], Node(3): self.parent = Node(2): self.parent = Node(1): self.parent = Node(0): self.parent = None, self.adj = [...], self.adj = [Node(0): self.parent = None, self.adj = [...], Node(2): self.parent = Node(1): self.parent = Node(0): self.parent = None, self.adj = [...], self.adj = [...], self.adj = [...]], self.adj = [...], self.adj = [Node(2): self.parent = Node(1): self.parent = Node(0): self.parent = None, self.adj = [...], self.adj = [Node(0): self.parent = None, self.adj = [...], Node(2): self.parent = Node(1): self.parent = Node(0): self.parent = None, self.adj = [...], self.adj = [...], self.adj = [...]], self.adj = [...]]]], self.adj = [Node(0): self.parent = None, self.adj = [Node(1): self.parent = Node(0): self.parent = None, self.adj = [...], self.adj = [...], Node(2): self.parent = Node(1): self.parent = Node(0): self.parent = None, self.adj = [...], self.adj = [...], self.adj = [Node(0): self.parent = None, self.adj = [...], Node(1): self.parent = Node(0): self.parent = None, self.adj = [...], self.adj = [...], Node(3): self.parent = Node(2): self.parent = Node(1): self.parent = Node(0): self.parent = None, self.adj = [...], self.adj = [...], self.adj = [...], self.adj = [Node(2): self.parent = Node(1): self.parent = Node(0): self.parent = None, self.adj = [...], self.adj = [...], self.adj = [...]]]], Node(2): self.parent = Node(1): self.parent = Node(0): self.parent = None, self.adj = [Node(1): self.parent = Node(0): self.parent = None, self.adj = [...], self.adj = [...], Node(2): self.parent = Node(1): self.parent = Node(0): self.parent = None, self.adj = [...], self.adj = [...], self.adj = [Node(0): self.parent = None, self.adj = [...], Node(1): self.parent = Node(0): self.parent = None, self.adj = [...], self.adj = [...], Node(3): self.parent = Node(2): self.parent = Node(1): self.parent = Node(0): self.parent = None, self.adj = [...], self.adj = [...], self.adj = [...], self.adj = [Node(2): self.parent = Node(1): self.parent = Node(0): self.parent = None, self.adj = [...], self.adj = [...], self.adj = [...]]]], self.adj = [...], self.adj = [Node(0): self.parent = None, self.adj = [Node(1): self.parent = Node(0): self.parent = None, self.adj = [...], self.adj = [...], Node(2): self.parent = Node(1): self.parent = Node(0): self.parent = None, self.adj = [...], self.adj = [...], self.adj = [...]], Node(1): self.parent = Node(0): self.parent = None, self.adj = [Node(1): self.parent = Node(0): self.parent = None, self.adj = [...], self.adj = [...], Node(2): self.parent = Node(1): self.parent = Node(0): self.parent = None, self.adj = [...], self.adj = [...], self.adj = [...]], self.adj = [...], Node(3): self.parent = Node(2): self.parent = Node(1): self.parent = Node(0): self.parent = None, self.adj = [Node(1): self.parent = Node(0): self.parent = None, self.adj = [...], self.adj = [...], Node(2): self.parent = Node(1): self.parent = Node(0): self.parent = None, self.adj = [...], self.adj = [...], self.adj = [...]], self.adj = [...], self.adj = [...], self.adj = [Node(2): self.parent = Node(1): self.parent = Node(0): self.parent = None, self.adj = [Node(1): self.parent = Node(0): self.parent = None, self.adj = [...], self.adj = [...], Node(2): self.parent = Node(1): self.parent = Node(0): self.parent = None, self.adj = [...], self.adj = [...], self.adj = [...]], self.adj = [...], self.adj = [...]]]], self.adj = [Node(0): self.parent = None, self.adj = [Node(1): self.parent = Node(0): self.parent = None, self.adj = [...], self.adj = [Node(0): self.parent = None, self.adj = [...], Node(2): self.parent = Node(1): self.parent = Node(0): self.parent = None, self.adj = [...], self.adj = [...], self.adj = [...]], Node(2): self.parent = Node(1): self.parent = Node(0): self.parent = None, self.adj = [...], self.adj = [Node(0): self.parent = None, self.adj = [...], Node(2): self.parent = Node(1): self.parent = Node(0): self.parent = None, self.adj = [...], self.adj = [...], self.adj = [...]], self.adj = [...]], Node(1): self.parent = Node(0): self.parent = None, self.adj = [Node(1): self.parent = Node(0): self.parent = None, self.adj = [...], self.adj = [Node(0): self.parent = None, self.adj = [...], Node(2): self.parent = Node(1): self.parent = Node(0): self.parent = None, self.adj = [...], self.adj = [...], self.adj = [...]], Node(2): self.parent = Node(1): self.parent = Node(0): self.parent = None, self.adj = [...], self.adj = [Node(0): self.parent = None, self.adj = [...], Node(2): self.parent = Node(1): self.parent = Node(0): self.parent = None, self.adj = [...], self.adj = [...], self.adj = [...]], self.adj = [...]], self.adj = [Node(0): self.parent = None, self.adj = [Node(1): self.parent = Node(0): self.parent = None, self.adj = [...], self.adj = [...], Node(2): self.parent = Node(1): self.parent = Node(0): self.parent = None, self.adj = [...], self.adj = [...], self.adj = [...]], Node(2): self.parent = Node(1): self.parent = Node(0): self.parent = None, self.adj = [Node(1): self.parent = Node(0): self.parent = None, self.adj = [...], self.adj = [...], Node(2): self.parent = Node(1): self.parent = Node(0): self.parent = None, self.adj = [...], self.adj = [...], self.adj = [...]], self.adj = [...], self.adj = [...]], Node(3): self.parent = Node(2): self.parent = Node(1): self.parent = Node(0): self.parent = None, self.adj = [Node(1): self.parent = Node(0): self.parent = None, self.adj = [...], self.adj = [Node(0): self.parent = None, self.adj = [...], Node(2): self.parent = Node(1): self.parent = Node(0): self.parent = None, self.adj = [...], self.adj = [...], self.adj = [...]], Node(2): self.parent = Node(1): self.parent = Node(0): self.parent = None, self.adj = [...], self.adj = [Node(0): self.parent = None, self.adj = [...], Node(2): self.parent = Node(1): self.parent = Node(0): self.parent = None, self.adj = [...], self.adj = [...], self.adj = [...]], self.adj = [...]], self.adj = [Node(0): self.parent = None, self.adj = [Node(1): self.parent = Node(0): self.parent = None, self.adj = [...], self.adj = [...], Node(2): self.parent = Node(1): self.parent = Node(0): self.parent = None, self.adj = [...], self.adj = [...], self.adj = [...]], Node(2): self.parent = Node(1): self.parent = Node(0): self.parent = None, self.adj = [Node(1): self.parent = Node(0): self.parent = None, self.adj = [...], self.adj = [...], Node(2): self.parent = Node(1): self.parent = Node(0): self.parent = None, self.adj = [...], self.adj = [...], self.adj = [...]], self.adj = [...], self.adj = [...]], self.adj = [...], self.adj = [Node(2): self.parent = Node(1): self.parent = Node(0): self.parent = None, self.adj = [Node(1): self.parent = Node(0): self.parent = None, self.adj = [...], self.adj = [Node(0): self.parent = None, self.adj = [...], Node(2): self.parent = Node(1): self.parent = Node(0): self.parent = None, self.adj = [...], self.adj = [...], self.adj = [...]], Node(2): self.parent = Node(1): self.parent = Node(0): self.parent = None, self.adj = [...], self.adj = [Node(0): self.parent = None, self.adj = [...], Node(2): self.parent = Node(1): self.parent = Node(0): self.parent = None, self.adj = [...], self.adj = [...], self.adj = [...]], self.adj = [...]], self.adj = [Node(0): self.parent = None, self.adj = [Node(1): self.parent = Node(0): self.parent = None, self.adj = [...], self.adj = [...], Node(2): self.parent = Node(1): self.parent = Node(0): self.parent = None, self.adj = [...], self.adj = [...], self.adj = [...]], Node(2): self.parent = Node(1): self.parent = Node(0): self.parent = None, self.adj = [Node(1): self.parent = Node(0): self.parent = None, self.adj = [...], self.adj = [...], Node(2): self.parent = Node(1): self.parent = Node(0): self.parent = None, self.adj = [...], self.adj = [...], self.adj = [...]], self.adj = [...], self.adj = [...]], self.adj = [...]]])]\n"
     ]
    }
   ],
   "source": [
    "T, B = dfs_visit(G, G[0])\n",
    "\n",
    "print(f\"{T = }, {B = }\")"
   ]
  },
  {
   "cell_type": "code",
   "execution_count": 22,
   "metadata": {},
   "outputs": [],
   "source": [
    "# Check dfs path\n",
    "\n",
    "# Path from a node to Node(0)\n",
    "\n",
    "import random\n",
    "\n",
    "e : Node = random.choice(G)\n",
    "\n",
    "while e is not G[0]:\n",
    "    print(f\"{e.name} -> {e.parent.name}\")\n",
    "    e = e.parent"
   ]
  }
 ],
 "metadata": {
  "kernelspec": {
   "display_name": "algs",
   "language": "python",
   "name": "python3"
  },
  "language_info": {
   "codemirror_mode": {
    "name": "ipython",
    "version": 3
   },
   "file_extension": ".py",
   "mimetype": "text/x-python",
   "name": "python",
   "nbconvert_exporter": "python",
   "pygments_lexer": "ipython3",
   "version": "3.12.1"
  }
 },
 "nbformat": 4,
 "nbformat_minor": 2
}
