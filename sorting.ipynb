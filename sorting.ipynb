{
 "cells": [
  {
   "cell_type": "markdown",
   "metadata": {},
   "source": [
    "# Sorting Algorithms\n",
    "\n",
    "Sorting algorithms are used to (as the name implies) sort an array of values using different techniques"
   ]
  },
  {
   "cell_type": "code",
   "execution_count": 17,
   "metadata": {},
   "outputs": [
    {
     "name": "stdout",
     "output_type": "stream",
     "text": [
      "[708, 578, 833, 328, 680, 141, 906, 655, 650, 106, 415, 150, 538, 688, 707, 926, 454, 766, 418, 607, 696, 731, 969, 905, 711, 619, 229, 737, 285, 33, 747, 293, 207, 643, 185, 62, 139, 385, 694, 132, 865, 26, 572, 483, 973, 207, 552, 604, 701, 935, 41, 421, 351, 643, 635, 603, 601, 417, 716, 486, 724, 764, 288, 931, 734, 351, 146, 881, 562, 282, 70, 460, 969, 660, 543, 30, 402, 482, 309, 416, 126, 454, 831, 40, 264, 688, 595, 296, 226, 410, 396, 174, 974, 162, 275, 48, 416, 117, 327, 767]\n"
     ]
    }
   ],
   "source": [
    "from random import randint\n",
    "\n",
    "input_size = 100\n",
    "max_value = 1000\n",
    "\n",
    "input_list = [randint(0,max_value) for i in range(input_size)]\n",
    "print(input_list)"
   ]
  },
  {
   "cell_type": "markdown",
   "metadata": {},
   "source": [
    "## Insertion Sort\n"
   ]
  },
  {
   "cell_type": "code",
   "execution_count": 12,
   "metadata": {},
   "outputs": [],
   "source": [
    "def insertion_sort(A : list):\n",
    "    for i in range(1, len(A)):\n",
    "        key = A[i]\n",
    "        j = i - 1\n",
    "        while j >= 0 and A[j] > key:\n",
    "            A[j+1] = A[j]\n",
    "            j = j - 1\n",
    "        A[j+1] = key\n",
    "    return A\n"
   ]
  },
  {
   "cell_type": "code",
   "execution_count": 22,
   "metadata": {},
   "outputs": [
    {
     "name": "stdout",
     "output_type": "stream",
     "text": [
      "[26, 30, 33, 40, 41, 48, 62, 70, 106, 117, 126, 132, 139, 141, 146, 150, 162, 174, 185, 207, 207, 226, 229, 264, 275, 282, 285, 288, 293, 296, 309, 327, 328, 351, 351, 385, 396, 402, 410, 415, 416, 416, 417, 418, 421, 454, 454, 460, 482, 483, 486, 538, 543, 552, 562, 572, 578, 595, 601, 603, 604, 607, 619, 635, 643, 643, 650, 655, 660, 680, 688, 688, 694, 696, 701, 707, 708, 711, 716, 724, 731, 734, 737, 747, 764, 766, 767, 831, 833, 865, 881, 905, 906, 926, 931, 935, 969, 969, 973, 974]\n"
     ]
    }
   ],
   "source": [
    "print(insertion_sort(list(input_list)))"
   ]
  },
  {
   "cell_type": "markdown",
   "metadata": {},
   "source": [
    "### Insertion Sort Analysis\n",
    "\n",
    "1. The external `for` is executed `n-1` times\n",
    "2. The `while` loop is executed at most `i-1` times\n",
    "3. since `i` at most has value `n`, then it is executed `(n-1)(n-1)` times, which is less than n^2\n",
    "4. Inside the `while` loop execution takes a constant time, taking at most c(n^2), so its execution time is O(n^2)\n",
    "5. A value that has to be moved of k position repeats the inside of `while` loop at most `n^2` times, so the worst time  is Omega(n^2)\n",
    "\n",
    "This means the execution time is Theta(n^2)"
   ]
  },
  {
   "cell_type": "markdown",
   "metadata": {},
   "source": [
    "## Merge Sort"
   ]
  }
 ],
 "metadata": {
  "kernelspec": {
   "display_name": "algs",
   "language": "python",
   "name": "python3"
  },
  "language_info": {
   "codemirror_mode": {
    "name": "ipython",
    "version": 3
   },
   "file_extension": ".py",
   "mimetype": "text/x-python",
   "name": "python",
   "nbconvert_exporter": "python",
   "pygments_lexer": "ipython3",
   "version": "3.12.1"
  }
 },
 "nbformat": 4,
 "nbformat_minor": 2
}
